{
 "cells": [
  {
   "cell_type": "code",
   "execution_count": 1,
   "id": "7bb6456f-5943-440a-b0e9-589e60056acd",
   "metadata": {},
   "outputs": [],
   "source": [
    "import pandas as pd"
   ]
  },
  {
   "cell_type": "code",
   "execution_count": 2,
   "id": "837a22e6-d8a2-4dec-b562-61c2e7f18fde",
   "metadata": {},
   "outputs": [],
   "source": [
    "df = pd.read_csv(r\"customer_churn_dataset-testing-master.csv\")"
   ]
  },
  {
   "cell_type": "code",
   "execution_count": 3,
   "id": "170ab6b2-b539-42d5-b5cd-88fc8418d7f2",
   "metadata": {},
   "outputs": [
    {
     "name": "stdout",
     "output_type": "stream",
     "text": [
      "Columns in DataFrame: ['CustomerID', 'Age', 'Gender', 'Tenure', 'Usage Frequency', 'Support Calls', 'Payment Delay', 'Subscription Type', 'Contract Length', 'Total Spend', 'Last Interaction', 'Churn']\n"
     ]
    }
   ],
   "source": [
    "print(\"Columns in DataFrame:\", df.columns.tolist())"
   ]
  },
  {
   "cell_type": "code",
   "execution_count": 4,
   "id": "575fe743-b7bf-4551-9a57-f26157acd3e0",
   "metadata": {},
   "outputs": [],
   "source": [
    "customer_column = \"CustomerID\"\n",
    "spend_column = \"Total Spend\""
   ]
  },
  {
   "cell_type": "code",
   "execution_count": 5,
   "id": "a615a4d2-e1f9-4e2b-8504-1a10b2b460de",
   "metadata": {},
   "outputs": [
    {
     "name": "stdout",
     "output_type": "stream",
     "text": [
      "\n",
      "Customers sorted by total spend (descending):\n",
      "       CustomerID  Total Spend\n",
      "37461       37462         1000\n",
      "40             41         1000\n",
      "45253       45254         1000\n",
      "28861       28862         1000\n",
      "16972       16973         1000\n",
      "...           ...          ...\n",
      "4358         4359          100\n",
      "33728       33729          100\n",
      "49752       49753          100\n",
      "34388       34389          100\n",
      "59550       59551          100\n",
      "\n",
      "[64374 rows x 2 columns]\n"
     ]
    }
   ],
   "source": [
    "customer_spend = (\n",
    "    df.groupby(\"CustomerID\", as_index=False)[\"Total Spend\"]\n",
    "    .sum().\n",
    "    sort_values(by=\"Total Spend\", ascending=False)\n",
    ")\n",
    "print(\"\\nCustomers sorted by total spend (descending):\")\n",
    "print(customer_spend)"
   ]
  },
  {
   "cell_type": "code",
   "execution_count": 6,
   "id": "a31e104b-4017-4fdb-81f1-79af295e9518",
   "metadata": {},
   "outputs": [
    {
     "name": "stdout",
     "output_type": "stream",
     "text": [
      "CustomerID     37462\n",
      "Total Spend     1000\n",
      "Name: 37461, dtype: int64\n",
      "['CustomerID', 'Total Spend']\n",
      "\\Top spender -> CustomerID 37462 with total spend 1000\n"
     ]
    }
   ],
   "source": [
    "top = customer_spend.iloc[0]\n",
    "print(top)\n",
    "print(top.index.tolist())\n",
    "\n",
    "print(f\"\\Top spender -> CustomerID {top['CustomerID']} with total spend {top['Total Spend']}\")"
   ]
  },
  {
   "cell_type": "code",
   "execution_count": 8,
   "id": "43695295-8a81-42d3-adee-c553e1e3b16b",
   "metadata": {},
   "outputs": [],
   "source": [
    "df = pd.read_csv(\"customer_churn_dataset-testing-master.csv\")"
   ]
  },
  {
   "cell_type": "code",
   "execution_count": 9,
   "id": "49b1a682-93c9-4bd7-8b58-f1c078f0ad9d",
   "metadata": {},
   "outputs": [
    {
     "name": "stdout",
     "output_type": "stream",
     "text": [
      "Customers sorted by Churn status, then Age:\n",
      "       CustomerID  Age  Gender  Tenure  Usage Frequency  Support Calls  \\\n",
      "53             54   18  Female      22               21              3   \n",
      "61             62   18  Female      57               16             10   \n",
      "116           117   18    Male      36               18              7   \n",
      "192           193   18    Male      28               12              3   \n",
      "207           208   18    Male      33               18              1   \n",
      "...           ...  ...     ...     ...              ...            ...   \n",
      "64190       64191   65    Male      50                4              9   \n",
      "64225       64226   65  Female       7               13              9   \n",
      "64234       64235   65  Female      42               14              3   \n",
      "64307       64308   65  Female      19               15              1   \n",
      "64348       64349   65    Male      52                3              9   \n",
      "\n",
      "       Payment Delay Subscription Type Contract Length  Total Spend  \\\n",
      "53                30           Premium          Annual          919   \n",
      "61                 2             Basic       Quarterly          657   \n",
      "116               14          Standard         Monthly          635   \n",
      "192               20          Standard         Monthly          261   \n",
      "207               22             Basic          Annual          312   \n",
      "...              ...               ...             ...          ...   \n",
      "64190              8          Standard       Quarterly          119   \n",
      "64225             30             Basic       Quarterly          280   \n",
      "64234             28           Premium         Monthly          939   \n",
      "64307             29          Standard          Annual          110   \n",
      "64348              1           Premium          Annual          842   \n",
      "\n",
      "       Last Interaction  Churn  \n",
      "53                    3      0  \n",
      "61                   26      0  \n",
      "116                  19      0  \n",
      "192                  13      0  \n",
      "207                  29      0  \n",
      "...                 ...    ...  \n",
      "64190                17      1  \n",
      "64225                 1      1  \n",
      "64234                 9      1  \n",
      "64307                23      1  \n",
      "64348                24      1  \n",
      "\n",
      "[64374 rows x 12 columns]\n"
     ]
    }
   ],
   "source": [
    "sorted_df = df.sort_values(by=[\"Churn\", \"Age\"], ascending=[True, True])\n",
    "\n",
    "print(\"Customers sorted by Churn status, then Age:\")\n",
    "print(sorted_df)"
   ]
  },
  {
   "cell_type": "code",
   "execution_count": 10,
   "id": "e46dea2c-5fcd-494f-876f-1732c092d9e8",
   "metadata": {},
   "outputs": [
    {
     "name": "stdout",
     "output_type": "stream",
     "text": [
      "\n",
      "Patterns to observe:\n",
      "-Young customers in each churn category appear at the top.\"\n",
      "-Within 'Yes' and 'No' groups, Age increases from youngest to oldest.\"\n",
      "-You can now compare age distribution differences between churned and non-churned customers\n",
      "\n"
     ]
    }
   ],
   "source": [
    "print(\"\"\"\n",
    "Patterns to observe:\n",
    "-Young customers in each churn category appear at the top.\"\n",
    "-Within 'Yes' and 'No' groups, Age increases from youngest to oldest.\"\n",
    "-You can now compare age distribution differences between churned and non-churned customers\n",
    "\"\"\")"
   ]
  },
  {
   "cell_type": "code",
   "execution_count": 11,
   "id": "8513a0c8-476d-429f-acb5-c2eaeb291cf6",
   "metadata": {},
   "outputs": [],
   "source": [
    "df = pd.read_csv(r\"customer_churn_dataset-testing-master.csv\")"
   ]
  },
  {
   "cell_type": "code",
   "execution_count": 12,
   "id": "439494d4-874d-472d-99dd-66aa04224492",
   "metadata": {},
   "outputs": [],
   "source": [
    "churn_gender = pd.crosstab(df['Gender'], df['Churn'])"
   ]
  },
  {
   "cell_type": "code",
   "execution_count": 14,
   "id": "3432f501-d799-4c4c-a090-ca9da1f4eac7",
   "metadata": {},
   "outputs": [
    {
     "name": "stdout",
     "output_type": "stream",
     "text": [
      "Crosstab of churn vs gender:\n",
      " Churn       0      1\n",
      "Gender              \n",
      "Female  15442  18911\n",
      "Male    18439  11582\n",
      "\n",
      "Churn percentage by gender:\n",
      " Churn           0          1\n",
      "Gender                      \n",
      "Female  44.950950  55.049050\n",
      "Male    61.420339  38.579661\n"
     ]
    }
   ],
   "source": [
    "churn_gender_pct = churn_gender.div(churn_gender.sum(axis=1), axis=0) * 100\n",
    "\n",
    "print(\"Crosstab of churn vs gender:\\n\", churn_gender)\n",
    "print(\"\\nChurn percentage by gender:\\n\", churn_gender_pct)\n",
    "                                    "
   ]
  },
  {
   "cell_type": "code",
   "execution_count": 15,
   "id": "f889bcbf-a767-48a5-b5bd-9abb6939dd25",
   "metadata": {},
   "outputs": [
    {
     "name": "stdout",
     "output_type": "stream",
     "text": [
      "\n",
      "Detected churn column: 1\n"
     ]
    }
   ],
   "source": [
    "churn_col = churn_gender.columns[-1]\n",
    "print(\"\\nDetected churn column:\", churn_col)"
   ]
  },
  {
   "cell_type": "code",
   "execution_count": 16,
   "id": "b4058d92-e47d-44db-a363-059503afe334",
   "metadata": {},
   "outputs": [
    {
     "name": "stdout",
     "output_type": "stream",
     "text": [
      "\n",
      "Pattern: Females have higher churn rates than Males.\n"
     ]
    }
   ],
   "source": [
    "if churn_gender_pct.loc[\"Male\", churn_col] > churn_gender_pct.loc[\"Female\", churn_col]:\n",
    "    print(\"\\nPattern: Males have higher churn rates than Females.\")\n",
    "else:\n",
    "    print(\"\\nPattern: Females have higher churn rates than Males.\")"
   ]
  },
  {
   "cell_type": "code",
   "execution_count": 17,
   "id": "2ceb7b9d-cec6-492c-b7d0-b15d292a7ae2",
   "metadata": {},
   "outputs": [],
   "source": [
    "import pandas as pd"
   ]
  },
  {
   "cell_type": "code",
   "execution_count": 18,
   "id": "336dc85f-594a-441e-a00a-32fa6bce0c08",
   "metadata": {},
   "outputs": [],
   "source": [
    "df = pd.read_csv(r\"customer_churn_dataset-testing-master.csv\")"
   ]
  },
  {
   "cell_type": "code",
   "execution_count": 19,
   "id": "9e169e7b-bb3c-4e90-93db-66065d622f1a",
   "metadata": {},
   "outputs": [
    {
     "name": "stdout",
     "output_type": "stream",
     "text": [
      "Index(['CustomerID', 'Age', 'Gender', 'Tenure', 'Usage Frequency',\n",
      "       'Support Calls', 'Payment Delay', 'Subscription Type',\n",
      "       'Contract Length', 'Total Spend', 'Last Interaction', 'Churn'],\n",
      "      dtype='object')\n"
     ]
    }
   ],
   "source": [
    "print(df.columns)"
   ]
  },
  {
   "cell_type": "code",
   "execution_count": 20,
   "id": "a2c0650f-ab1f-4d5e-8a91-7b6cdc8485e3",
   "metadata": {},
   "outputs": [
    {
     "name": "stdout",
     "output_type": "stream",
     "text": [
      "Crosstab of Churn vs Subscription Type:\n",
      "\n",
      "Churn                  0      1\n",
      "Subscription Type              \n",
      "Basic              11095  10356\n",
      "Premium            11461   9960\n",
      "Standard           11325  10177\n"
     ]
    }
   ],
   "source": [
    "crosstab = pd.crosstab(df['Subscription Type'], df['Churn'])\n",
    "print(\"Crosstab of Churn vs Subscription Type:\\n\")\n",
    "print(crosstab)"
   ]
  },
  {
   "cell_type": "code",
   "execution_count": 21,
   "id": "46b676ea-8363-4d86-980c-7eb46c8f246f",
   "metadata": {},
   "outputs": [
    {
     "name": "stdout",
     "output_type": "stream",
     "text": [
      "Churn rate by Subscription Type:\n",
      "\n",
      "Subscription Type\n",
      "Basic      NaN\n",
      "Premium    NaN\n",
      "Standard   NaN\n",
      "dtype: float64\n"
     ]
    }
   ],
   "source": [
    "churn_rate = (\n",
    "    df[df['Churn'] == \"Yes\"]\n",
    "    .groupby(\"Subscription Type\")\n",
    "    .size()\n",
    "    / df.groupby(\"Subscription Type\").size()\n",
    ").sort_values(ascending=False)\n",
    "\n",
    "print(\"Churn rate by Subscription Type:\\n\")\n",
    "print(churn_rate)"
   ]
  },
  {
   "cell_type": "code",
   "execution_count": 28,
   "id": "e515bb1d-e76b-4064-89ef-8521e6d256b8",
   "metadata": {},
   "outputs": [
    {
     "name": "stdout",
     "output_type": "stream",
     "text": [
      "\n",
      "The subscription type with the highest churn is: nan\n"
     ]
    },
    {
     "name": "stderr",
     "output_type": "stream",
     "text": [
      "C:\\Users\\USER\\AppData\\Local\\Temp\\ipykernel_10976\\1684132298.py:1: FutureWarning: The behavior of Series.idxmax with all-NA values, or any-NA and skipna=False, is deprecated. In a future version this will raise ValueError\n",
      "  highest_churn = churn_rate.idxmax()\n"
     ]
    }
   ],
   "source": [
    "highest_churn = churn_rate.idxmax()\n",
    "print(f\"\\nThe subscription type with the highest churn is: {highest_churn}\")"
   ]
  },
  {
   "cell_type": "code",
   "execution_count": 29,
   "id": "612e827c-ab58-4423-a982-c4678ca7557b",
   "metadata": {},
   "outputs": [],
   "source": [
    "import pandas as pd"
   ]
  },
  {
   "cell_type": "code",
   "execution_count": 30,
   "id": "7073a6fa-ec80-43d4-845f-56b1f1c82e68",
   "metadata": {},
   "outputs": [
    {
     "name": "stdout",
     "output_type": "stream",
     "text": [
      "Average Total Spend by Subscription Type:\n",
      "\n",
      "Subscription Type\n",
      "Premium     543.581579\n",
      "Basic       540.908536\n",
      "Standard    538.589387\n",
      "Name: Total Spend, dtype: float64\n"
     ]
    }
   ],
   "source": [
    "avg_spend = df.groupby(\"Subscription Type\")[\"Total Spend\"].mean().sort_values(ascending=False)\n",
    "print(\"Average Total Spend by Subscription Type:\\n\")\n",
    "print(avg_spend)"
   ]
  },
  {
   "cell_type": "code",
   "execution_count": 31,
   "id": "3fa6f64f-256c-4e5a-aa98-da9e963419e3",
   "metadata": {},
   "outputs": [
    {
     "name": "stdout",
     "output_type": "stream",
     "text": [
      "\n",
      "Total Revenue by Subscription Type:\n",
      "\n",
      "Subscription Type\n",
      "Premium     11644061\n",
      "Basic       11603029\n",
      "Standard    11580749\n",
      "Name: Total Spend, dtype: int64\n"
     ]
    }
   ],
   "source": [
    "total_revenue = df.groupby(\"Subscription Type\")[\"Total Spend\"].sum().sort_values(ascending=False)\n",
    "print(\"\\nTotal Revenue by Subscription Type:\\n\")\n",
    "print(total_revenue)"
   ]
  },
  {
   "cell_type": "code",
   "execution_count": 32,
   "id": "99780f31-3e4c-485f-b2a0-551ff3f4edc7",
   "metadata": {},
   "outputs": [
    {
     "name": "stdout",
     "output_type": "stream",
     "text": [
      "\n",
      "The subscription type that brings in the most revenue is: Premium with total revenue of 11644061.00\n"
     ]
    }
   ],
   "source": [
    "highest_revenue_type = total_revenue.idxmax()\n",
    "highest_revenue_value = total_revenue.max()\n",
    "print(f\"\\nThe subscription type that brings in the most revenue is: {highest_revenue_type} \"\n",
    "      f\"with total revenue of {highest_revenue_value:.2f}\")"
   ]
  },
  {
   "cell_type": "code",
   "execution_count": 33,
   "id": "a3716fd6-7976-4640-ad85-78e8dd400259",
   "metadata": {},
   "outputs": [],
   "source": [
    "import pandas as pd"
   ]
  },
  {
   "cell_type": "code",
   "execution_count": 34,
   "id": "c098ad2b-1847-454f-be55-567313be1492",
   "metadata": {},
   "outputs": [
    {
     "name": "stdout",
     "output_type": "stream",
     "text": [
      "Average Tenure by Churn Status:\n",
      "\n",
      "Churn\n",
      "0    28.826481\n",
      "1    35.515200\n",
      "Name: Tenure, dtype: float64\n"
     ]
    }
   ],
   "source": [
    "avg_tenure = df.groupby(\"Churn\")[\"Tenure\"].mean()\n",
    "print(\"Average Tenure by Churn Status:\\n\")\n",
    "print(avg_tenure)"
   ]
  },
  {
   "cell_type": "code",
   "execution_count": 35,
   "id": "3c12d025-fd7b-47ab-ab8d-25e4e863f1b1",
   "metadata": {},
   "outputs": [
    {
     "name": "stdout",
     "output_type": "stream",
     "text": [
      "[1 0]\n"
     ]
    }
   ],
   "source": [
    "print(df['Churn'].unique())"
   ]
  },
  {
   "cell_type": "code",
   "execution_count": 36,
   "id": "7f2465af-f909-4518-9a5e-5bc258c92172",
   "metadata": {},
   "outputs": [
    {
     "name": "stdout",
     "output_type": "stream",
     "text": [
      "Unique churn values: [1 0]\n"
     ]
    }
   ],
   "source": [
    "print(\"Unique churn values:\", df['Churn'].unique())"
   ]
  },
  {
   "cell_type": "code",
   "execution_count": 37,
   "id": "1588c417-0133-43a7-962c-796ccb0fcdde",
   "metadata": {},
   "outputs": [
    {
     "name": "stdout",
     "output_type": "stream",
     "text": [
      "\n",
      "Average Tenure by Churn Status:\n",
      "\n",
      "Churn\n",
      "0    28.826481\n",
      "1    35.515200\n",
      "Name: Tenure, dtype: float64\n"
     ]
    }
   ],
   "source": [
    "avg_tenure = df.groupby(\"Churn\")[\"Tenure\"].mean()\n",
    "print(\"\\nAverage Tenure by Churn Status:\\n\")\n",
    "print(avg_tenure)"
   ]
  },
  {
   "cell_type": "code",
   "execution_count": 38,
   "id": "89d4bf34-047c-4f8a-95de-6300c56aff87",
   "metadata": {},
   "outputs": [
    {
     "name": "stdout",
     "output_type": "stream",
     "text": [
      "\n",
      "Customers labeled as '0' have shorter tenures on average.\n"
     ]
    }
   ],
   "source": [
    "shortest = avg_tenure.idxmin()\n",
    "\n",
    "print(f\"\\nCustomers labeled as '{shortest}' have shorter tenures on average.\")"
   ]
  },
  {
   "cell_type": "code",
   "execution_count": 39,
   "id": "b603b35d-212f-491b-93fc-9b492f5dfad2",
   "metadata": {},
   "outputs": [],
   "source": [
    "import pandas as pd"
   ]
  },
  {
   "cell_type": "code",
   "execution_count": 40,
   "id": "19f6a32f-90e9-4bb2-8ddd-a30f455158ca",
   "metadata": {},
   "outputs": [],
   "source": [
    "df = pd.read_csv(r\"customer_churn_dataset-testing-master.csv\")"
   ]
  },
  {
   "cell_type": "code",
   "execution_count": 41,
   "id": "72a273e9-5d3d-4984-9c76-bdff0c72301d",
   "metadata": {},
   "outputs": [
    {
     "name": "stdout",
     "output_type": "stream",
     "text": [
      "Pivot Table of Average Total Spend by Gender and Churn:\n",
      "\n",
      "Churn            0           1\n",
      "Gender                        \n",
      "Female  573.396969  501.592089\n",
      "Male    549.776344  548.308496\n"
     ]
    }
   ],
   "source": [
    "pivot = pd.pivot_table(\n",
    "    df,\n",
    "    values=\"Total Spend\",\n",
    "    index=\"Gender\",\n",
    "    columns=\"Churn\",\n",
    "    aggfunc=\"mean\"   \n",
    ")\n",
    "\n",
    "print(\"Pivot Table of Average Total Spend by Gender and Churn:\\n\")\n",
    "print(pivot)"
   ]
  },
  {
   "cell_type": "code",
   "execution_count": 42,
   "id": "e9471f9d-535c-49fa-a8c5-34c701323713",
   "metadata": {},
   "outputs": [
    {
     "name": "stdout",
     "output_type": "stream",
     "text": [
      "\n",
      "The group that spends the most on average is: ('Female', np.int64(0)) with an average spend of 573.40\n"
     ]
    }
   ],
   "source": [
    "max_value = pivot.max().max()\n",
    "max_group = pivot.stack().idxmax()\n",
    "\n",
    "print(f\"\\nThe group that spends the most on average is: {max_group} \"\n",
    "      f\"with an average spend of {max_value:.2f}\")"
   ]
  },
  {
   "cell_type": "code",
   "execution_count": 43,
   "id": "3ab0d2a5-dd21-4291-a4b4-be7ef612b9a5",
   "metadata": {},
   "outputs": [
    {
     "name": "stdout",
     "output_type": "stream",
     "text": [
      "Pivot Table of Average Usage Frequency by Contract Length and Churn:\n",
      "\n",
      "Churn                    0          1\n",
      "Contract Length                      \n",
      "Annual           16.195484  13.410308\n",
      "Monthly          16.000374  14.407845\n",
      "Quarterly        15.931286  14.163452\n"
     ]
    }
   ],
   "source": [
    "pivot = pd.pivot_table(\n",
    "    df,\n",
    "    values=\"Usage Frequency\",\n",
    "    index=\"Contract Length\",\n",
    "    columns=\"Churn\",\n",
    "    aggfunc=\"mean\"\n",
    ")\n",
    "\n",
    "print(\"Pivot Table of Average Usage Frequency by Contract Length and Churn:\\n\")\n",
    "print(pivot)"
   ]
  },
  {
   "cell_type": "code",
   "execution_count": 44,
   "id": "18fd4890-2b54-4a13-ba30-477a86add571",
   "metadata": {},
   "outputs": [],
   "source": [
    "for contract in pivot.index:\n",
    "    churned = pivot.loc[contract].get(\"Yes\", None)\n",
    "    not_churned = pivot.loc[contract].get(\"No\", None)\n",
    "    if churned is not None and not_churned is not None:\n",
    "        if churned < not_churned:\n",
    "            print(f\"\\nFor {contract} contracts: churned customers use the service less often.\")\n",
    "        else:\n",
    "            print(f\"\\nFor {contract} contracts: churned customers use the service more often.\")"
   ]
  },
  {
   "cell_type": "code",
   "execution_count": null,
   "id": "d38f6665-27b0-4436-835c-1a257e4cc5e8",
   "metadata": {},
   "outputs": [],
   "source": []
  }
 ],
 "metadata": {
  "kernelspec": {
   "display_name": "Python 3 (ipykernel)",
   "language": "python",
   "name": "python3"
  },
  "language_info": {
   "codemirror_mode": {
    "name": "ipython",
    "version": 3
   },
   "file_extension": ".py",
   "mimetype": "text/x-python",
   "name": "python",
   "nbconvert_exporter": "python",
   "pygments_lexer": "ipython3",
   "version": "3.13.5"
  }
 },
 "nbformat": 4,
 "nbformat_minor": 5
}
